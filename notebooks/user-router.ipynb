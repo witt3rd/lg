{
 "cells": [
  {
   "cell_type": "code",
   "execution_count": 6,
   "metadata": {},
   "outputs": [],
   "source": [
    "\"\"\"Bionic bot\"\"\"\n",
    "\n",
    "import operator\n",
    "import os\n",
    "from typing import Annotated, TypedDict, Union\n",
    "\n",
    "from langchain_core.agents import AgentAction, AgentFinish\n",
    "from langchain_core.load import dumps\n",
    "from langchain_core.messages import AIMessage, HumanMessage, SystemMessage\n",
    "from langchain_core.pydantic_v1 import BaseModel, Field\n",
    "from langchain_openai import ChatOpenAI\n",
    "from langgraph.checkpoint.sqlite import SqliteSaver\n",
    "from langgraph.graph import END, StateGraph"
   ]
  },
  {
   "cell_type": "code",
   "execution_count": 17,
   "metadata": {},
   "outputs": [],
   "source": [
    "# We will set streaming=True so that we can stream tokens\n",
    "# See the streaming section for more information on this.\n",
    "llm = ChatOpenAI(temperature=0, streaming=True, model=\"gpt-4-turbo\")\n",
    "\n",
    "\n",
    "class ChatRouter(BaseModel):\n",
    "    \"\"\"Call this if you are able to route the user to the appropriate representative.\"\"\"\n",
    "\n",
    "    choice: str = Field(description=\"should be one of: user, workflow\")\n",
    "\n",
    "\n",
    "system_message = \"\"\"\n",
    "You are a `digital double` of the user.  You are an extension and reflection of the user.\n",
    "\n",
    "You should interact tersely with them to try to figure out how you can route their message:\n",
    "\n",
    "- User understanding: learn about the user, inform them of what you have learned about them, adapt to their styles and preferences. Call the router with `user`\n",
    "- Workflows: your main job is to offload tasks from the user.  You do this with workflows.  If the user is asking about creating, updating, performing, or the status of a task or workflow, then call the router with `workflow`\n",
    "\n",
    "Ask youself: is the user message about the user?  something the like, something they've done or want to do (aspirations), dreams, experiences, preferences, etc.?  If so, then route to user understanding ('user').\n",
    "Otherwise, if the user message is not about themselves (user understanding) or about tasks (workflows), then respond directing them to one of these topics.\n",
    "\"\"\"\n",
    "\n",
    "\n",
    "def get_messages(messages):\n",
    "    return [SystemMessage(content=system_message)] + messages"
   ]
  },
  {
   "cell_type": "code",
   "execution_count": 18,
   "metadata": {},
   "outputs": [],
   "source": [
    "chain = get_messages | llm.bind_tools([ChatRouter])"
   ]
  },
  {
   "cell_type": "code",
   "execution_count": 19,
   "metadata": {},
   "outputs": [
    {
     "data": {
      "text/plain": [
       "AIMessage(content='', additional_kwargs={'tool_calls': [{'index': 0, 'id': 'call_Qmpp9nUGxPqJMStNBfX5fxYR', 'function': {'arguments': '{\"choice\":\"user\"}', 'name': 'ChatRouter'}, 'type': 'function'}]}, response_metadata={'finish_reason': 'tool_calls'}, id='run-0bbb40cf-7a1d-40db-b4f2-6b582e436cc4-0', tool_calls=[{'name': 'ChatRouter', 'args': {'choice': 'user'}, 'id': 'call_Qmpp9nUGxPqJMStNBfX5fxYR'}])"
      ]
     },
     "execution_count": 19,
     "metadata": {},
     "output_type": "execute_result"
    }
   ],
   "source": [
    "msgs = [HumanMessage(content=\"i rarely eat vegetables\")]\n",
    "chain.invoke(msgs)"
   ]
  },
  {
   "cell_type": "code",
   "execution_count": 20,
   "metadata": {},
   "outputs": [
    {
     "data": {
      "text/plain": [
       "AIMessage(content='', additional_kwargs={'tool_calls': [{'index': 0, 'id': 'call_ZBsBn5lVPWPToklgpqaDMYPJ', 'function': {'arguments': '{\"choice\":\"workflow\"}', 'name': 'ChatRouter'}, 'type': 'function'}]}, response_metadata={'finish_reason': 'tool_calls'}, id='run-b5a26d47-3197-4754-ad42-ce81ff1fc6c3-0', tool_calls=[{'name': 'ChatRouter', 'args': {'choice': 'workflow'}, 'id': 'call_ZBsBn5lVPWPToklgpqaDMYPJ'}])"
      ]
     },
     "execution_count": 20,
     "metadata": {},
     "output_type": "execute_result"
    }
   ],
   "source": [
    "msgs = [HumanMessage(content=\"what's the status of the TPS report?\")]\n",
    "chain.invoke(msgs)"
   ]
  },
  {
   "cell_type": "code",
   "execution_count": 21,
   "metadata": {},
   "outputs": [
    {
     "data": {
      "text/plain": [
       "AIMessage(content='', additional_kwargs={'tool_calls': [{'index': 0, 'id': 'call_p0DfBF9H2o5usmqxpUSwZNa2', 'function': {'arguments': '{\"choice\":\"user\"}', 'name': 'ChatRouter'}, 'type': 'function'}]}, response_metadata={'finish_reason': 'tool_calls'}, id='run-2263dde9-9afb-477e-abc6-b32d14aa6827-0', tool_calls=[{'name': 'ChatRouter', 'args': {'choice': 'user'}, 'id': 'call_p0DfBF9H2o5usmqxpUSwZNa2'}])"
      ]
     },
     "execution_count": 21,
     "metadata": {},
     "output_type": "execute_result"
    }
   ],
   "source": [
    "msgs = [HumanMessage(content=\"I am a professional software developer\")]\n",
    "chain.invoke(msgs)"
   ]
  },
  {
   "cell_type": "code",
   "execution_count": 22,
   "metadata": {},
   "outputs": [
    {
     "data": {
      "text/plain": [
       "AIMessage(content=\"I'm here to help with tasks related to workflows or to learn more about you. For weather updates, you might want to check a weather website or app. Is there anything else I can assist you with related to your tasks or personal preferences?\", response_metadata={'finish_reason': 'stop'}, id='run-325a871d-fc03-490d-9d24-353eb70b5528-0')"
      ]
     },
     "execution_count": 22,
     "metadata": {},
     "output_type": "execute_result"
    }
   ],
   "source": [
    "msgs = [HumanMessage(content=\"What is the weather going to be like tomorrow?\")]\n",
    "chain.invoke(msgs)"
   ]
  }
 ],
 "metadata": {
  "kernelspec": {
   "display_name": "lg",
   "language": "python",
   "name": "python3"
  },
  "language_info": {
   "codemirror_mode": {
    "name": "ipython",
    "version": 3
   },
   "file_extension": ".py",
   "mimetype": "text/x-python",
   "name": "python",
   "nbconvert_exporter": "python",
   "pygments_lexer": "ipython3",
   "version": "3.11.9"
  }
 },
 "nbformat": 4,
 "nbformat_minor": 2
}
