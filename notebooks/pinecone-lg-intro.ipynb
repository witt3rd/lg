{
 "cells": [
  {
   "cell_type": "code",
   "execution_count": 20,
   "metadata": {},
   "outputs": [],
   "source": [
    "import operator\n",
    "from typing import Annotated, List, TypedDict, Union\n",
    "\n",
    "from langchain.load.dump import dumps\n",
    "from langchain_core.agents import AgentAction, AgentFinish\n",
    "\n",
    "\n",
    "class AgentState(TypedDict):\n",
    "    input: str\n",
    "    agent_out: Union[AgentAction, AgentFinish, None]\n",
    "    intermediate_steps: Annotated[list[tuple[AgentAction, str]], operator.add]"
   ]
  },
  {
   "cell_type": "code",
   "execution_count": 2,
   "metadata": {},
   "outputs": [],
   "source": [
    "ehi_information = \"\"\"Title: EHI: End-to-end Learning of Hierarchical Index for\n",
    "Efficient Dense Retrieval\n",
    "Summary: Dense embedding-based retrieval is now the industry\n",
    "standard for semantic search and ranking problems, like obtaining relevant web\n",
    "documents for a given query. Such techniques use a two-stage process: (a)\n",
    "contrastive learning to train a dual encoder to embed both the query and\n",
    "documents and (b) approximate nearest neighbor search (ANNS) for finding similar\n",
    "documents for a given query. These two stages are disjoint; the learned\n",
    "embeddings might be ill-suited for the ANNS method and vice-versa, leading to\n",
    "suboptimal performance. In this work, we propose End-to-end Hierarchical\n",
    "Indexing -- EHI -- that jointly learns both the embeddings and the ANNS\n",
    "structure to optimize retrieval performance. EHI uses a standard dual encoder\n",
    "model for embedding queries and documents while learning an inverted file index\n",
    "(IVF) style tree structure for efficient ANNS. To ensure stable and efficient\n",
    "learning of discrete tree-based ANNS structure, EHI introduces the notion of\n",
    "dense path embedding that captures the position of a query/document in the tree.\n",
    "We demonstrate the effectiveness of EHI on several benchmarks, including\n",
    "de-facto industry standard MS MARCO (Dev set and TREC DL19) datasets. For\n",
    "example, with the same compute budget, EHI outperforms state-of-the-art (SOTA)\n",
    "in by 0.6% (MRR@10) on MS MARCO dev set and by 4.2% (nDCG@10) on TREC DL19\n",
    "benchmarks.\n",
    "Author(s): Ramnath Kumar, Anshul Mittal, Nilesh Gupta, Aditya Kusupati,\n",
    "Inderjit Dhillon, Prateek Jain\n",
    "Source: https://arxiv.org/pdf/2310.08891.pdf\"\"\""
   ]
  },
  {
   "cell_type": "code",
   "execution_count": 3,
   "metadata": {},
   "outputs": [],
   "source": [
    "from langchain_core.tools import tool\n",
    "\n",
    "\n",
    "@tool(\"search\")\n",
    "def search_tool(query: str):\n",
    "    \"\"\"Searches for information on the topic of artificial intelligence (AI).\n",
    "    Cannot be used to research any other topics. Search query must be provided\n",
    "    in natural language and be verbose.\"\"\"\n",
    "    # this is a \"RAG\" emulator\n",
    "    return ehi_information\n",
    "\n",
    "\n",
    "@tool(\"final_answer\")\n",
    "def final_answer_tool(answer: str, source: str):\n",
    "    \"\"\"Returns a natural language response to the user in `answer`, and a\n",
    "    `source` which provides citations for where this information came from.\n",
    "    \"\"\"\n",
    "    return \"\""
   ]
  },
  {
   "cell_type": "code",
   "execution_count": 4,
   "metadata": {},
   "outputs": [
    {
     "data": {
      "text/plain": [
       "StructuredTool(name='search', description='search(query: str) - Searches for information on the topic of artificial intelligence (AI).\\n    Cannot be used to research any other topics. Search query must be provided\\n    in natural language and be verbose.', args_schema=<class 'pydantic.v1.main.searchSchema'>, func=<function search_tool at 0x11722f920>)"
      ]
     },
     "execution_count": 4,
     "metadata": {},
     "output_type": "execute_result"
    }
   ],
   "source": [
    "search_tool"
   ]
  },
  {
   "cell_type": "code",
   "execution_count": 5,
   "metadata": {},
   "outputs": [],
   "source": [
    "import os\n",
    "\n",
    "from langchain import hub\n",
    "from langchain.agents import create_openai_tools_agent\n",
    "from langchain_openai import ChatOpenAI\n",
    "\n",
    "llm = ChatOpenAI(temperature=0)\n",
    "\n",
    "prompt = hub.pull(\"hwchase17/openai-functions-agent\")\n",
    "\n",
    "query_agent_runnable = create_openai_tools_agent(\n",
    "    llm=llm, tools=[final_answer_tool, search_tool], prompt=prompt\n",
    ")"
   ]
  },
  {
   "cell_type": "code",
   "execution_count": 6,
   "metadata": {},
   "outputs": [
    {
     "data": {
      "text/plain": [
       "[ToolAgentAction(tool='search', tool_input={'query': 'EHI embeddings'}, log=\"\\nInvoking: `search` with `{'query': 'EHI embeddings'}`\\n\\n\\n\", message_log=[AIMessage(content='', additional_kwargs={'tool_calls': [{'id': 'call_9Et3evKJA74bVDEdpxDtZHXH', 'function': {'arguments': '{\"query\":\"EHI embeddings\"}', 'name': 'search'}, 'type': 'function'}]}, response_metadata={'token_usage': {'completion_tokens': 15, 'prompt_tokens': 150, 'total_tokens': 165}, 'model_name': 'gpt-3.5-turbo', 'system_fingerprint': 'fp_3b956da36b', 'finish_reason': 'tool_calls', 'logprobs': None}, id='run-7e037f71-d88b-4db9-bf36-0407f9c395ed-0', tool_calls=[{'name': 'search', 'args': {'query': 'EHI embeddings'}, 'id': 'call_9Et3evKJA74bVDEdpxDtZHXH'}])], tool_call_id='call_9Et3evKJA74bVDEdpxDtZHXH')]"
      ]
     },
     "execution_count": 6,
     "metadata": {},
     "output_type": "execute_result"
    }
   ],
   "source": [
    "inputs = {\"input\": \"what are EHI embeddings?\", \"intermediate_steps\": []}\n",
    "agent_out = query_agent_runnable.invoke(inputs)\n",
    "agent_out"
   ]
  },
  {
   "cell_type": "code",
   "execution_count": 7,
   "metadata": {},
   "outputs": [
    {
     "data": {
      "text/plain": [
       "{'id': 'call_9Et3evKJA74bVDEdpxDtZHXH',\n",
       " 'function': {'arguments': '{\"query\":\"EHI embeddings\"}', 'name': 'search'},\n",
       " 'type': 'function'}"
      ]
     },
     "execution_count": 7,
     "metadata": {},
     "output_type": "execute_result"
    }
   ],
   "source": [
    "agent_out[-1].message_log[-1].additional_kwargs[\"tool_calls\"][-1]"
   ]
  },
  {
   "cell_type": "code",
   "execution_count": 8,
   "metadata": {},
   "outputs": [],
   "source": [
    "import json\n",
    "\n",
    "from langchain_core.agents import AgentFinish\n",
    "\n",
    "\n",
    "def run_query_agent(state: list):\n",
    "    print(\"> run_query_agent\")\n",
    "    agent_out = query_agent_runnable.invoke(state)\n",
    "    return {\"agent_out\": agent_out}\n",
    "\n",
    "\n",
    "def execute_search(state: list):\n",
    "    print(\"> execute_search\")\n",
    "    action = state[\"agent_out\"]\n",
    "    tool_call = action[-1].message_log[-1].additional_kwargs[\"tool_calls\"][-1]\n",
    "    out = search_tool.invoke(json.loads(tool_call[\"function\"][\"arguments\"]))\n",
    "    return {\"intermediate_steps\": [{\"search\": str(out)}]}\n",
    "\n",
    "\n",
    "def router(state: list):\n",
    "    print(\"> router\")\n",
    "    if isinstance(state[\"agent_out\"], list):\n",
    "        return state[\"agent_out\"][-1].tool\n",
    "    return \"error\"\n",
    "\n",
    "\n",
    "# finally, we will have a single LLM call that MUST use the final_answer structure\n",
    "final_answer_llm = llm.bind_tools([final_answer_tool], tool_choice=\"final_answer\")\n",
    "\n",
    "\n",
    "# this forced final_answer LLM call will be used to structure output from our\n",
    "# RAG endpoint\n",
    "def rag_final_answer(state: list):\n",
    "    print(\"> final_answer\")\n",
    "    query = state[\"input\"]\n",
    "    context = state[\"intermediate_steps\"][-1]\n",
    "\n",
    "    prompt = f\"\"\"You are a helpful assistant, answer the user's question using the\n",
    "    context provided.\n",
    "\n",
    "    CONTEXT: {context}\n",
    "\n",
    "    QUESTION: {query}\n",
    "    \"\"\"\n",
    "    out = final_answer_llm.invoke(prompt)\n",
    "    function_call = out.additional_kwargs[\"tool_calls\"][-1][\"function\"][\"arguments\"]\n",
    "    return {\"agent_out\": function_call}\n",
    "\n",
    "\n",
    "# we use the same forced final_answer LLM call to handle incorrectly formatted\n",
    "# output from our query_agent\n",
    "def handle_error(state: list):\n",
    "    print(\"> handle_error\")\n",
    "    query = state[\"input\"]\n",
    "    prompt = f\"\"\"You are a helpful assistant, answer the user's question.\n",
    "\n",
    "    QUESTION: {query}\n",
    "    \"\"\"\n",
    "    out = final_answer_llm.invoke(prompt)\n",
    "    function_call = out.additional_kwargs[\"tool_calls\"][-1][\"function\"][\"arguments\"]\n",
    "    return {\"agent_out\": function_call}"
   ]
  },
  {
   "cell_type": "code",
   "execution_count": 23,
   "metadata": {},
   "outputs": [
    {
     "name": "stdout",
     "output_type": "stream",
     "text": [
      "{\n",
      "  \"lc\": 1,\n",
      "  \"type\": \"constructor\",\n",
      "  \"id\": [\n",
      "    \"langchain\",\n",
      "    \"schema\",\n",
      "    \"messages\",\n",
      "    \"AIMessage\"\n",
      "  ],\n",
      "  \"kwargs\": {\n",
      "    \"content\": \"\",\n",
      "    \"additional_kwargs\": {\n",
      "      \"tool_calls\": [\n",
      "        {\n",
      "          \"id\": \"call_nwMvZqIi6voSbAN9AefbSzYy\",\n",
      "          \"function\": {\n",
      "            \"arguments\": \"{\\\"answer\\\":\\\"The EHI model, which stands for End-to-end Hierarchical Indexing, is a technique that jointly learns both the embeddings and the approximate nearest neighbor search (ANNS) structure to optimize retrieval performance. It uses a standard dual encoder model for embedding queries and documents while learning an inverted file index (IVF) style tree structure for efficient ANNS.\\\",\\\"source\\\":\\\"Research paper on dense embedding-based retrieval and End-to-end Hierarchical Indexing (EHI)\\\"}\",\n",
      "            \"name\": \"final_answer\"\n",
      "          },\n",
      "          \"type\": \"function\"\n",
      "        }\n",
      "      ]\n",
      "    },\n",
      "    \"name\": null,\n",
      "    \"id\": \"run-044b8737-31ba-4bc7-bc67-a10b8b9e8425-0\",\n",
      "    \"tool_calls\": [\n",
      "      {\n",
      "        \"name\": \"final_answer\",\n",
      "        \"args\": {\n",
      "          \"answer\": \"The EHI model, which stands for End-to-end Hierarchical Indexing, is a technique that jointly learns both the embeddings and the approximate nearest neighbor search (ANNS) structure to optimize retrieval performance. It uses a standard dual encoder model for embedding queries and documents while learning an inverted file index (IVF) style tree structure for efficient ANNS.\",\n",
      "          \"source\": \"Research paper on dense embedding-based retrieval and End-to-end Hierarchical Indexing (EHI)\"\n",
      "        },\n",
      "        \"id\": \"call_nwMvZqIi6voSbAN9AefbSzYy\"\n",
      "      }\n",
      "    ],\n",
      "    \"invalid_tool_calls\": []\n",
      "  }\n",
      "}\n"
     ]
    }
   ],
   "source": [
    "query = \"What is the EHI model?\"\n",
    "context = \"\"\"Dense embedding-based retrieval is now the industry standard for semantic\n",
    "search and ranking problems, like obtaining relevant web documents for a given\n",
    "query. Such techniques use a two-stage process: (a) contrastive learning to\n",
    "train a dual encoder to embed both the query and documents and (b) approximate\n",
    "nearest neighbor search (ANNS) for finding similar documents for a given query.\n",
    "These two stages are disjoint; the learned embeddings might be ill-suited for\n",
    "the ANNS method and vice-versa, leading to suboptimal performance. In this\n",
    "work, we propose End-to-end Hierarchical Indexing -- EHI -- that jointly learns\n",
    "both the embeddings and the ANNS structure to optimize retrieval performance.\n",
    "EHI uses a standard dual encoder model for embedding queries and documents while\n",
    "learning an inverted file index (IVF) style tree structure for efficient ANNS.\n",
    "\"\"\"\n",
    "\n",
    "prompt = f\"\"\"You are a helpful assistant, answer the user's question using the\n",
    "context provided.\n",
    "\n",
    "CONTEXT: {context}\n",
    "\n",
    "QUESTION: {query}\n",
    "\"\"\"\n",
    "out = final_answer_llm.invoke(prompt)\n",
    "print(dumps(out, pretty=True))"
   ]
  },
  {
   "cell_type": "code",
   "execution_count": 9,
   "metadata": {},
   "outputs": [],
   "source": [
    "from langgraph.graph import StateGraph\n",
    "\n",
    "graph = StateGraph(AgentState)\n",
    "\n",
    "# we have four nodes that will consume our agent state and modify\n",
    "# our agent state based on some internal process\n",
    "graph.add_node(\"query_agent\", run_query_agent)\n",
    "graph.add_node(\"search\", execute_search)\n",
    "graph.add_node(\"error\", handle_error)\n",
    "graph.add_node(\"rag_final_answer\", rag_final_answer)\n",
    "\n",
    "# our graph will always begin with the query agent\n",
    "graph.set_entry_point(\"query_agent\")"
   ]
  },
  {
   "cell_type": "code",
   "execution_count": 10,
   "metadata": {},
   "outputs": [],
   "source": [
    "from langgraph.graph import END, StateGraph\n",
    "\n",
    "graph = StateGraph(AgentState)\n",
    "\n",
    "graph.add_node(\"query_agent\", run_query_agent)\n",
    "graph.add_node(\"search\", execute_search)\n",
    "graph.add_node(\"error\", handle_error)\n",
    "graph.add_node(\"rag_final_answer\", rag_final_answer)\n",
    "\n",
    "graph.set_entry_point(\"query_agent\")\n",
    "\n",
    "# conditional edges are controlled by our router\n",
    "graph.add_conditional_edges(\n",
    "    start_key=\"query_agent\",  # where in graph to start\n",
    "    condition=router,  # function to determine which node is called\n",
    "    conditional_edge_mapping={\n",
    "        \"search\": \"search\",\n",
    "        \"error\": \"error\",\n",
    "        \"final_answer\": END,\n",
    "    },\n",
    ")\n",
    "graph.add_edge(\"search\", \"rag_final_answer\")\n",
    "graph.add_edge(\"error\", END)\n",
    "graph.add_edge(\"rag_final_answer\", END)\n",
    "\n",
    "runnable = graph.compile()"
   ]
  },
  {
   "cell_type": "code",
   "execution_count": 11,
   "metadata": {},
   "outputs": [
    {
     "data": {
      "image/png": "[encoded data removed]",
      "text/plain": [
       "<IPython.core.display.Image object>"
      ]
     },
     "execution_count": 11,
     "metadata": {},
     "output_type": "execute_result"
    }
   ],
   "source": [
    "from IPython.display import Image\n",
    "\n",
    "Image(runnable.get_graph().draw_png())"
   ]
  },
  {
   "cell_type": "code",
   "execution_count": 12,
   "metadata": {},
   "outputs": [
    {
     "name": "stdout",
     "output_type": "stream",
     "text": [
      "> run_query_agent\n",
      "> router\n",
      "> execute_search\n",
      "> final_answer\n"
     ]
    }
   ],
   "source": [
    "runnable = graph.compile()\n",
    "\n",
    "out = runnable.invoke({\"input\": \"what is AI?\", \"chat_history\": []})"
   ]
  },
  {
   "cell_type": "code",
   "execution_count": 13,
   "metadata": {},
   "outputs": [
    {
     "name": "stdout",
     "output_type": "stream",
     "text": [
      "{\"answer\":\"AI stands for Artificial Intelligence, which refers to the simulation of human intelligence processes by machines, especially computer systems. It involves the development of algorithms and models that enable machines to perform tasks that typically require human intelligence, such as learning, reasoning, problem-solving, perception, and decision-making.\",\"source\":\"https://en.wikipedia.org/wiki/Artificial_intelligence\"}\n"
     ]
    }
   ],
   "source": [
    "print(out[\"agent_out\"])"
   ]
  },
  {
   "cell_type": "code",
   "execution_count": 14,
   "metadata": {},
   "outputs": [
    {
     "name": "stdout",
     "output_type": "stream",
     "text": [
      "> run_query_agent\n",
      "> router\n",
      "> execute_search\n",
      "> final_answer\n",
      "{\"answer\":\"EHI embeddings refer to the embeddings generated by the End-to-end Hierarchical Indexing (EHI) model. These embeddings are produced by a standard dual encoder model for queries and documents, while also learning an inverted file index (IVF) style tree structure for efficient approximate nearest neighbor search (ANNS). EHI introduces the concept of dense path embedding to capture the position of a query/document in the tree, ensuring stable and efficient learning of the discrete tree-based ANNS structure.\",\"source\":\"https://arxiv.org/pdf/2310.08891.pdf\"}\n"
     ]
    }
   ],
   "source": [
    "out = runnable.invoke({\"input\": \"what are EHI embeddings?\", \"chat_history\": []})\n",
    "print(out[\"agent_out\"])"
   ]
  },
  {
   "cell_type": "code",
   "execution_count": 15,
   "metadata": {},
   "outputs": [
    {
     "name": "stdout",
     "output_type": "stream",
     "text": [
      "> run_query_agent\n",
      "> router\n",
      "> execute_search\n",
      "> final_answer\n",
      "{\"answer\":\"EHI embeddings refer to the embeddings generated by the End-to-end Hierarchical Indexing (EHI) model. The EHI model jointly learns both the embeddings and the Approximate Nearest Neighbor Search (ANNS) structure to optimize retrieval performance. It uses a standard dual encoder model for embedding queries and documents while learning an inverted file index (IVF) style tree structure for efficient ANNS. EHI introduces the notion of dense path embedding to capture the position of a query/document in the tree, ensuring stable and efficient learning of the discrete tree-based ANNS structure.\",\"source\":\"https://arxiv.org/pdf/2310.08891.pdf\"}\n"
     ]
    }
   ],
   "source": [
    "out = runnable.invoke(\n",
    "    {\"input\": \"can you tell me about EHI embeddings?\", \"chat_history\": []}\n",
    ")\n",
    "print(out[\"agent_out\"])"
   ]
  },
  {
   "cell_type": "code",
   "execution_count": 16,
   "metadata": {},
   "outputs": [
    {
     "name": "stdout",
     "output_type": "stream",
     "text": [
      "> run_query_agent\n",
      "> router\n",
      "> handle_error\n",
      "{\"answer\":\"Hello! How can I assist you today?\",\"source\":\"\"}\n"
     ]
    }
   ],
   "source": [
    "out = runnable.invoke({\"input\": \"hi\", \"chat_history\": []})\n",
    "print(out[\"agent_out\"])"
   ]
  },
  {
   "cell_type": "code",
   "execution_count": 17,
   "metadata": {},
   "outputs": [
    {
     "name": "stdout",
     "output_type": "stream",
     "text": [
      "> run_query_agent\n",
      "> router\n",
      "> handle_error\n",
      "{\"answer\":\"Hello! How can I assist you today?\",\"source\":\"N/A\"}\n"
     ]
    }
   ],
   "source": [
    "out = runnable.invoke(\n",
    "    {\"input\": \"hi, please don't respond to me with a `source`\", \"chat_history\": []}\n",
    ")\n",
    "print(out[\"agent_out\"])"
   ]
  }
 ],
 "metadata": {
  "kernelspec": {
   "display_name": "lg",
   "language": "python",
   "name": "python3"
  },
  "language_info": {
   "codemirror_mode": {
    "name": "ipython",
    "version": 3
   },
   "file_extension": ".py",
   "mimetype": "text/x-python",
   "name": "python",
   "nbconvert_exporter": "python",
   "pygments_lexer": "ipython3",
   "version": "3.11.9"
  }
 },
 "nbformat": 4,
 "nbformat_minor": 2
}
